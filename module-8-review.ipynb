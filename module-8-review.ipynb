{
 "cells": [
  {
   "cell_type": "markdown",
   "id": "ed0e3389",
   "metadata": {},
   "source": [
    "## Are rents in NYC going to drop anytime soon?"
   ]
  },
  {
   "cell_type": "markdown",
   "id": "24c8eb0b",
   "metadata": {},
   "source": [
    "### Import libraries and files"
   ]
  },
  {
   "cell_type": "code",
   "execution_count": 14,
   "id": "ea8ff0cb",
   "metadata": {},
   "outputs": [],
   "source": [
    "# Import libraries\n",
    "import pandas as pd\n",
    "from prophet import Prophet\n",
    "from IPython.display import clear_output"
   ]
  },
  {
   "cell_type": "code",
   "execution_count": 15,
   "id": "7a8d4d00",
   "metadata": {},
   "outputs": [
    {
     "data": {
      "text/html": [
       "<div>\n",
       "<style scoped>\n",
       "    .dataframe tbody tr th:only-of-type {\n",
       "        vertical-align: middle;\n",
       "    }\n",
       "\n",
       "    .dataframe tbody tr th {\n",
       "        vertical-align: top;\n",
       "    }\n",
       "\n",
       "    .dataframe thead th {\n",
       "        text-align: right;\n",
       "    }\n",
       "</style>\n",
       "<table border=\"1\" class=\"dataframe\">\n",
       "  <thead>\n",
       "    <tr style=\"text-align: right;\">\n",
       "      <th></th>\n",
       "      <th>areaName</th>\n",
       "      <th>Borough</th>\n",
       "      <th>areaType</th>\n",
       "      <th>2010-01</th>\n",
       "      <th>2010-02</th>\n",
       "      <th>2010-03</th>\n",
       "      <th>2010-04</th>\n",
       "      <th>2010-05</th>\n",
       "      <th>2010-06</th>\n",
       "      <th>2010-07</th>\n",
       "      <th>...</th>\n",
       "      <th>2023-06</th>\n",
       "      <th>2023-07</th>\n",
       "      <th>2023-08</th>\n",
       "      <th>2023-09</th>\n",
       "      <th>2023-10</th>\n",
       "      <th>2023-11</th>\n",
       "      <th>2023-12</th>\n",
       "      <th>2024-01</th>\n",
       "      <th>2024-02</th>\n",
       "      <th>2024-03</th>\n",
       "    </tr>\n",
       "  </thead>\n",
       "  <tbody>\n",
       "    <tr>\n",
       "      <th>0</th>\n",
       "      <td>All Downtown</td>\n",
       "      <td>Manhattan</td>\n",
       "      <td>submarket</td>\n",
       "      <td>2995.0</td>\n",
       "      <td>2950.0</td>\n",
       "      <td>2900.0</td>\n",
       "      <td>2975.0</td>\n",
       "      <td>2995.0</td>\n",
       "      <td>3000.0</td>\n",
       "      <td>3000.0</td>\n",
       "      <td>...</td>\n",
       "      <td>4670.0</td>\n",
       "      <td>4500.0</td>\n",
       "      <td>4500.0</td>\n",
       "      <td>4550.0</td>\n",
       "      <td>4500.0</td>\n",
       "      <td>4500.0</td>\n",
       "      <td>4600.0</td>\n",
       "      <td>4730.0</td>\n",
       "      <td>4750.0</td>\n",
       "      <td>4705.0</td>\n",
       "    </tr>\n",
       "    <tr>\n",
       "      <th>1</th>\n",
       "      <td>All Midtown</td>\n",
       "      <td>Manhattan</td>\n",
       "      <td>submarket</td>\n",
       "      <td>2800.0</td>\n",
       "      <td>2800.0</td>\n",
       "      <td>2850.0</td>\n",
       "      <td>2895.0</td>\n",
       "      <td>2900.0</td>\n",
       "      <td>2970.0</td>\n",
       "      <td>3000.0</td>\n",
       "      <td>...</td>\n",
       "      <td>4490.0</td>\n",
       "      <td>4400.0</td>\n",
       "      <td>4391.0</td>\n",
       "      <td>4329.0</td>\n",
       "      <td>4210.0</td>\n",
       "      <td>4173.0</td>\n",
       "      <td>4210.0</td>\n",
       "      <td>4300.0</td>\n",
       "      <td>4308.0</td>\n",
       "      <td>4395.0</td>\n",
       "    </tr>\n",
       "    <tr>\n",
       "      <th>2</th>\n",
       "      <td>All Upper East Side</td>\n",
       "      <td>Manhattan</td>\n",
       "      <td>submarket</td>\n",
       "      <td>2350.0</td>\n",
       "      <td>2300.0</td>\n",
       "      <td>2350.0</td>\n",
       "      <td>2470.0</td>\n",
       "      <td>2500.0</td>\n",
       "      <td>2500.0</td>\n",
       "      <td>2500.0</td>\n",
       "      <td>...</td>\n",
       "      <td>3650.0</td>\n",
       "      <td>3500.0</td>\n",
       "      <td>3500.0</td>\n",
       "      <td>3500.0</td>\n",
       "      <td>3550.0</td>\n",
       "      <td>3600.0</td>\n",
       "      <td>3585.0</td>\n",
       "      <td>3600.0</td>\n",
       "      <td>3795.0</td>\n",
       "      <td>3695.0</td>\n",
       "    </tr>\n",
       "    <tr>\n",
       "      <th>3</th>\n",
       "      <td>All Upper Manhattan</td>\n",
       "      <td>Manhattan</td>\n",
       "      <td>submarket</td>\n",
       "      <td>1500.0</td>\n",
       "      <td>1516.0</td>\n",
       "      <td>1545.0</td>\n",
       "      <td>1516.0</td>\n",
       "      <td>1550.0</td>\n",
       "      <td>1575.0</td>\n",
       "      <td>1550.0</td>\n",
       "      <td>...</td>\n",
       "      <td>2495.0</td>\n",
       "      <td>2450.0</td>\n",
       "      <td>2475.0</td>\n",
       "      <td>2450.0</td>\n",
       "      <td>2400.0</td>\n",
       "      <td>2400.0</td>\n",
       "      <td>2400.0</td>\n",
       "      <td>2450.0</td>\n",
       "      <td>2495.0</td>\n",
       "      <td>2500.0</td>\n",
       "    </tr>\n",
       "    <tr>\n",
       "      <th>4</th>\n",
       "      <td>All Upper West Side</td>\n",
       "      <td>Manhattan</td>\n",
       "      <td>submarket</td>\n",
       "      <td>2600.0</td>\n",
       "      <td>2565.0</td>\n",
       "      <td>2495.0</td>\n",
       "      <td>2500.0</td>\n",
       "      <td>2500.0</td>\n",
       "      <td>2600.0</td>\n",
       "      <td>2600.0</td>\n",
       "      <td>...</td>\n",
       "      <td>4000.0</td>\n",
       "      <td>4100.0</td>\n",
       "      <td>4100.0</td>\n",
       "      <td>4124.0</td>\n",
       "      <td>4095.0</td>\n",
       "      <td>4000.0</td>\n",
       "      <td>3995.0</td>\n",
       "      <td>4000.0</td>\n",
       "      <td>4198.0</td>\n",
       "      <td>4200.0</td>\n",
       "    </tr>\n",
       "    <tr>\n",
       "      <th>5</th>\n",
       "      <td>Astoria</td>\n",
       "      <td>Queens</td>\n",
       "      <td>neighborhood</td>\n",
       "      <td>1395.0</td>\n",
       "      <td>1450.0</td>\n",
       "      <td>1450.0</td>\n",
       "      <td>1395.0</td>\n",
       "      <td>1400.0</td>\n",
       "      <td>1550.0</td>\n",
       "      <td>1475.0</td>\n",
       "      <td>...</td>\n",
       "      <td>2450.0</td>\n",
       "      <td>2450.0</td>\n",
       "      <td>2495.0</td>\n",
       "      <td>2495.0</td>\n",
       "      <td>2400.0</td>\n",
       "      <td>2400.0</td>\n",
       "      <td>2400.0</td>\n",
       "      <td>2463.0</td>\n",
       "      <td>2500.0</td>\n",
       "      <td>2500.0</td>\n",
       "    </tr>\n",
       "    <tr>\n",
       "      <th>6</th>\n",
       "      <td>Auburndale</td>\n",
       "      <td>Queens</td>\n",
       "      <td>neighborhood</td>\n",
       "      <td>NaN</td>\n",
       "      <td>NaN</td>\n",
       "      <td>NaN</td>\n",
       "      <td>NaN</td>\n",
       "      <td>NaN</td>\n",
       "      <td>NaN</td>\n",
       "      <td>NaN</td>\n",
       "      <td>...</td>\n",
       "      <td>NaN</td>\n",
       "      <td>NaN</td>\n",
       "      <td>NaN</td>\n",
       "      <td>NaN</td>\n",
       "      <td>NaN</td>\n",
       "      <td>NaN</td>\n",
       "      <td>NaN</td>\n",
       "      <td>NaN</td>\n",
       "      <td>NaN</td>\n",
       "      <td>NaN</td>\n",
       "    </tr>\n",
       "    <tr>\n",
       "      <th>7</th>\n",
       "      <td>Bath Beach</td>\n",
       "      <td>Brooklyn</td>\n",
       "      <td>neighborhood</td>\n",
       "      <td>NaN</td>\n",
       "      <td>NaN</td>\n",
       "      <td>NaN</td>\n",
       "      <td>NaN</td>\n",
       "      <td>NaN</td>\n",
       "      <td>NaN</td>\n",
       "      <td>NaN</td>\n",
       "      <td>...</td>\n",
       "      <td>NaN</td>\n",
       "      <td>1750.0</td>\n",
       "      <td>NaN</td>\n",
       "      <td>NaN</td>\n",
       "      <td>1700.0</td>\n",
       "      <td>NaN</td>\n",
       "      <td>NaN</td>\n",
       "      <td>1850.0</td>\n",
       "      <td>1800.0</td>\n",
       "      <td>1995.0</td>\n",
       "    </tr>\n",
       "    <tr>\n",
       "      <th>8</th>\n",
       "      <td>Battery Park City</td>\n",
       "      <td>Manhattan</td>\n",
       "      <td>neighborhood</td>\n",
       "      <td>2875.0</td>\n",
       "      <td>2800.0</td>\n",
       "      <td>2900.0</td>\n",
       "      <td>2873.0</td>\n",
       "      <td>2800.0</td>\n",
       "      <td>2900.0</td>\n",
       "      <td>2950.0</td>\n",
       "      <td>...</td>\n",
       "      <td>4895.0</td>\n",
       "      <td>4895.0</td>\n",
       "      <td>4868.0</td>\n",
       "      <td>4730.0</td>\n",
       "      <td>4515.0</td>\n",
       "      <td>4425.0</td>\n",
       "      <td>4325.0</td>\n",
       "      <td>4320.0</td>\n",
       "      <td>4355.0</td>\n",
       "      <td>4545.0</td>\n",
       "    </tr>\n",
       "    <tr>\n",
       "      <th>9</th>\n",
       "      <td>Bay Ridge</td>\n",
       "      <td>Brooklyn</td>\n",
       "      <td>neighborhood</td>\n",
       "      <td>1350.0</td>\n",
       "      <td>1350.0</td>\n",
       "      <td>1350.0</td>\n",
       "      <td>1325.0</td>\n",
       "      <td>1300.0</td>\n",
       "      <td>1300.0</td>\n",
       "      <td>1300.0</td>\n",
       "      <td>...</td>\n",
       "      <td>1900.0</td>\n",
       "      <td>1950.0</td>\n",
       "      <td>1999.0</td>\n",
       "      <td>2000.0</td>\n",
       "      <td>1900.0</td>\n",
       "      <td>1900.0</td>\n",
       "      <td>1913.0</td>\n",
       "      <td>1950.0</td>\n",
       "      <td>2039.0</td>\n",
       "      <td>1985.0</td>\n",
       "    </tr>\n",
       "  </tbody>\n",
       "</table>\n",
       "<p>10 rows × 174 columns</p>\n",
       "</div>"
      ],
      "text/plain": [
       "              areaName    Borough      areaType  2010-01  2010-02  2010-03  \\\n",
       "0         All Downtown  Manhattan     submarket   2995.0   2950.0   2900.0   \n",
       "1          All Midtown  Manhattan     submarket   2800.0   2800.0   2850.0   \n",
       "2  All Upper East Side  Manhattan     submarket   2350.0   2300.0   2350.0   \n",
       "3  All Upper Manhattan  Manhattan     submarket   1500.0   1516.0   1545.0   \n",
       "4  All Upper West Side  Manhattan     submarket   2600.0   2565.0   2495.0   \n",
       "5              Astoria     Queens  neighborhood   1395.0   1450.0   1450.0   \n",
       "6           Auburndale     Queens  neighborhood      NaN      NaN      NaN   \n",
       "7           Bath Beach   Brooklyn  neighborhood      NaN      NaN      NaN   \n",
       "8    Battery Park City  Manhattan  neighborhood   2875.0   2800.0   2900.0   \n",
       "9            Bay Ridge   Brooklyn  neighborhood   1350.0   1350.0   1350.0   \n",
       "\n",
       "   2010-04  2010-05  2010-06  2010-07  ...  2023-06  2023-07  2023-08  \\\n",
       "0   2975.0   2995.0   3000.0   3000.0  ...   4670.0   4500.0   4500.0   \n",
       "1   2895.0   2900.0   2970.0   3000.0  ...   4490.0   4400.0   4391.0   \n",
       "2   2470.0   2500.0   2500.0   2500.0  ...   3650.0   3500.0   3500.0   \n",
       "3   1516.0   1550.0   1575.0   1550.0  ...   2495.0   2450.0   2475.0   \n",
       "4   2500.0   2500.0   2600.0   2600.0  ...   4000.0   4100.0   4100.0   \n",
       "5   1395.0   1400.0   1550.0   1475.0  ...   2450.0   2450.0   2495.0   \n",
       "6      NaN      NaN      NaN      NaN  ...      NaN      NaN      NaN   \n",
       "7      NaN      NaN      NaN      NaN  ...      NaN   1750.0      NaN   \n",
       "8   2873.0   2800.0   2900.0   2950.0  ...   4895.0   4895.0   4868.0   \n",
       "9   1325.0   1300.0   1300.0   1300.0  ...   1900.0   1950.0   1999.0   \n",
       "\n",
       "   2023-09  2023-10  2023-11  2023-12  2024-01  2024-02  2024-03  \n",
       "0   4550.0   4500.0   4500.0   4600.0   4730.0   4750.0   4705.0  \n",
       "1   4329.0   4210.0   4173.0   4210.0   4300.0   4308.0   4395.0  \n",
       "2   3500.0   3550.0   3600.0   3585.0   3600.0   3795.0   3695.0  \n",
       "3   2450.0   2400.0   2400.0   2400.0   2450.0   2495.0   2500.0  \n",
       "4   4124.0   4095.0   4000.0   3995.0   4000.0   4198.0   4200.0  \n",
       "5   2495.0   2400.0   2400.0   2400.0   2463.0   2500.0   2500.0  \n",
       "6      NaN      NaN      NaN      NaN      NaN      NaN      NaN  \n",
       "7      NaN   1700.0      NaN      NaN   1850.0   1800.0   1995.0  \n",
       "8   4730.0   4515.0   4425.0   4325.0   4320.0   4355.0   4545.0  \n",
       "9   2000.0   1900.0   1900.0   1913.0   1950.0   2039.0   1985.0  \n",
       "\n",
       "[10 rows x 174 columns]"
      ]
     },
     "execution_count": 15,
     "metadata": {},
     "output_type": "execute_result"
    }
   ],
   "source": [
    "# Read rental data from Street Easy\n",
    "df = pd.read_csv('https://cdn-charts.streeteasy.com/rentals/OneBd/medianAskingRent_OneBd.zip',compression='zip')\n",
    "df.head(10)"
   ]
  },
  {
   "cell_type": "markdown",
   "id": "3f901ec5",
   "metadata": {},
   "source": [
    "### User Input - Choose Borough and Area"
   ]
  },
  {
   "cell_type": "code",
   "execution_count": 12,
   "id": "24943334",
   "metadata": {},
   "outputs": [
    {
     "name": "stdout",
     "output_type": "stream",
     "text": [
      "You have selected the following areas:\n",
      "Midtown West, Upper East Side, Queens, Bronx\n",
      "\n",
      "1. Manhattan\n",
      "2. Queens\n",
      "3. Brooklyn\n",
      "4. Bronx\n",
      "5. Staten Island\n",
      "\n",
      "Please select a Borough from the list (-1 to exit): -1\n"
     ]
    }
   ],
   "source": [
    "# Create a list of boroughs\n",
    "boroughs = df['Borough'].dropna().unique().tolist()\n",
    "# Create an empty list to hold the selected areas and selected boroughs\n",
    "selected_areas = []\n",
    "selected_boroughs = []\n",
    "\n",
    "# loop till the user chooses to not enter a new area\n",
    "while True:\n",
    "    # Try-except block\n",
    "    try:\n",
    "        # Print the selected areas with their boroughs\n",
    "        if len(selected_areas) > 0:\n",
    "            print('You have selected the following areas:')\n",
    "            print(*selected_areas,sep=', ')\n",
    "            print()\n",
    "            \n",
    "        # Print the boroughs in the list\n",
    "        for i,borough in enumerate(boroughs):\n",
    "            print(f'{i+1}. {borough}')\n",
    "            \n",
    "        # Ask the user to choose from a borough\n",
    "        borough_input = int(input('\\nPlease select a Borough from the list (-1 to exit): '))\n",
    "        \n",
    "        # Check if the borough is valid\n",
    "        if len(boroughs) >= borough_input > 0:\n",
    "            \n",
    "            # Create a list of boroughs based on the borough selected by the user\n",
    "            areas = df.loc[df['Borough'] == boroughs[borough_input-1], 'areaName'].tolist()\n",
    "\n",
    "            # Print the areas in the list\n",
    "            print()\n",
    "            for i,area in enumerate(areas):\n",
    "                print(f'{i+1}. {area}')\n",
    "\n",
    "            # Ask the user to choose from an area\n",
    "            print()\n",
    "            area_input = int(input('\\nPlease select an Area from the list: '))\n",
    "\n",
    "            # Check if the area is valid\n",
    "            if len(areas) >= area_input > 0:\n",
    "                # Add the selected area and borough to a list\n",
    "                selected_boroughs.append(boroughs[borough_input-1])\n",
    "                selected_areas.append(areas[area_input-1])\n",
    "                # Clear output area \n",
    "                clear_output()\n",
    "            else:\n",
    "                # Clear output area \n",
    "                clear_output()\n",
    "                print('Invalid area choosen. Please try again!\\n')\n",
    "            \n",
    "        # Break in case if the user enters -1  \n",
    "        elif borough_input == -1:\n",
    "            break\n",
    "        \n",
    "        # In case an invalid borough is chosen\n",
    "        else:\n",
    "            # Clear output area \n",
    "            clear_output()\n",
    "            print('Invalid borough choosen. Please try again!\\n')\n",
    "        \n",
    "    except:\n",
    "        # Print an exception in case if the user provides an invalid output\n",
    "        clear_output()\n",
    "        print('Invalid input!\\n')"
   ]
  },
  {
   "cell_type": "code",
   "execution_count": 13,
   "id": "c206e650",
   "metadata": {},
   "outputs": [
    {
     "name": "stdout",
     "output_type": "stream",
     "text": [
      "Manhattan-Midtown West\n",
      "Manhattan-Upper East Side\n",
      "Queens-Queens\n",
      "Bronx-Bronx\n"
     ]
    }
   ],
   "source": [
    "# Print the final list of areas and boroughs\n",
    "for i in range(len(selected_boroughs)):\n",
    "    print(f'{selected_boroughs[i]}-{selected_areas[i]}')"
   ]
  },
  {
   "cell_type": "markdown",
   "id": "c7187325",
   "metadata": {},
   "source": [
    "### Filter and clean data"
   ]
  },
  {
   "cell_type": "code",
   "execution_count": null,
   "id": "c307e6ce",
   "metadata": {},
   "outputs": [],
   "source": [
    "# Create a new dataframe to data of the areas selected\n",
    "df_nyc = pd.DataFrame()\n",
    "# Add the data to the dataframe\n",
    "for i in range(len(selected_boroughs)):\n",
    "    df_nyc = pd.concat([df_nyc,\n",
    "                             df.loc[(df['Borough'] == selected_boroughs[i]) & \n",
    "                                    (df['areaName'] == selected_areas[i])]])\n",
    "# Reset index and display dataframe\n",
    "df_nyc"
   ]
  },
  {
   "cell_type": "code",
   "execution_count": null,
   "id": "2928ebb9",
   "metadata": {},
   "outputs": [],
   "source": [
    "# Drop unwanted columns\n",
    "df_nyc.drop(['Borough', 'areaType'], axis=1, inplace=True)\n",
    "df_nyc"
   ]
  },
  {
   "cell_type": "code",
   "execution_count": null,
   "id": "6cf94755",
   "metadata": {},
   "outputs": [],
   "source": [
    "# Set index to areaName\n",
    "df_nyc.set_index('areaName', inplace=True)\n",
    "df_nyc"
   ]
  },
  {
   "cell_type": "code",
   "execution_count": null,
   "id": "a442bac6",
   "metadata": {},
   "outputs": [],
   "source": [
    "# Transpose the dataframe to move the dates to the index and rename the index to 'Date'\n",
    "df_nyc = df_nyc.transpose().rename_axis('', axis=1)\n",
    "df_nyc.tail()"
   ]
  },
  {
   "cell_type": "code",
   "execution_count": null,
   "id": "404c30ad",
   "metadata": {},
   "outputs": [],
   "source": [
    "# Check the datatype of the index\n",
    "df_nyc.index.dtype"
   ]
  },
  {
   "cell_type": "code",
   "execution_count": null,
   "id": "2612f4f5",
   "metadata": {},
   "outputs": [],
   "source": [
    "# Change the datatype of the index to datetime\n",
    "df_nyc.index = pd.to_datetime(df_nyc.index)\n",
    "df_nyc.index.dtype"
   ]
  },
  {
   "cell_type": "code",
   "execution_count": null,
   "id": "85697a63",
   "metadata": {},
   "outputs": [],
   "source": [
    "# Check null values\n",
    "df_nyc.isnull().sum()"
   ]
  },
  {
   "cell_type": "code",
   "execution_count": null,
   "id": "170bbdee",
   "metadata": {},
   "outputs": [],
   "source": [
    "# Group by year and quarter\n",
    "df_year_quarter = df_nyc\\\n",
    "                    .groupby([df_nyc.index.year, df_nyc.index.quarter])\\\n",
    "                    .mean()\n",
    "df_year_quarter.tail(10)"
   ]
  },
  {
   "cell_type": "markdown",
   "id": "6c348dd0",
   "metadata": {},
   "source": [
    "### Plot Data to visualize trends"
   ]
  },
  {
   "cell_type": "code",
   "execution_count": null,
   "id": "89382177",
   "metadata": {},
   "outputs": [],
   "source": [
    "# Plot the data for columns with 'All' in them\n",
    "df_year_quarter.plot(figsize=(12,10))"
   ]
  },
  {
   "cell_type": "code",
   "execution_count": null,
   "id": "92dee006",
   "metadata": {},
   "outputs": [],
   "source": [
    "# Plot the data for the last one year\n",
    "df_nyc.loc['2023-May':'2024'].plot(figsize=(12,10))"
   ]
  },
  {
   "cell_type": "markdown",
   "id": "1cdf6514",
   "metadata": {},
   "source": [
    "### Prepare the dataframes for Prophet"
   ]
  },
  {
   "cell_type": "code",
   "execution_count": null,
   "id": "b6e94692",
   "metadata": {},
   "outputs": [],
   "source": [
    "df_nyc.reset_index(inplace=True)\n",
    "df_nyc.head()"
   ]
  },
  {
   "cell_type": "code",
   "execution_count": null,
   "id": "e7e88286",
   "metadata": {},
   "outputs": [],
   "source": [
    "df_nyc.shape"
   ]
  },
  {
   "cell_type": "code",
   "execution_count": null,
   "id": "6eb14f0b",
   "metadata": {},
   "outputs": [],
   "source": [
    "# Create a list of dataframes for Prophet\n",
    "list_df = []\n",
    "\n",
    "for i in range(df_nyc.shape[1]-1):\n",
    "    temp_df = df_nyc.iloc[:,[0,i+1]].copy()\n",
    "    temp_df.columns = ['ds', 'y']\n",
    "    list_df.append(temp_df)\n",
    "\n",
    "# Check any one of the dataframes in the list\n",
    "list_df[0].head()"
   ]
  },
  {
   "cell_type": "markdown",
   "id": "66a1cd52",
   "metadata": {},
   "source": [
    "### Use Prophet to predict values"
   ]
  },
  {
   "cell_type": "code",
   "execution_count": null,
   "id": "56fc22ae",
   "metadata": {},
   "outputs": [],
   "source": [
    "# Create a list to hold the Prophet models\n",
    "m = [Prophet() for _ in range(len(list_df))]"
   ]
  },
  {
   "cell_type": "code",
   "execution_count": null,
   "id": "c9685f38",
   "metadata": {},
   "outputs": [],
   "source": [
    "# Fit the Prophet model\n",
    "for i in range(len(list_df)):\n",
    "    m[i].fit(list_df[i])"
   ]
  },
  {
   "cell_type": "code",
   "execution_count": null,
   "id": "ba4cdcd1",
   "metadata": {},
   "outputs": [],
   "source": [
    "# Ask user to enter duration of future prediction in months\n",
    "while True:\n",
    "    \n",
    "    try:\n",
    "        duration = int(input('How many months into the future do you want forecast: '))\n",
    "        \n",
    "        if duration <= 0:\n",
    "            print('Duration should be positive! Please try again')\n",
    "        else:\n",
    "            break\n",
    "    except:\n",
    "        print('Invalid entry! Please try again')"
   ]
  },
  {
   "cell_type": "code",
   "execution_count": null,
   "id": "a95ec69b",
   "metadata": {},
   "outputs": [],
   "source": [
    "# Forecast for the duration input of monthly trends\n",
    "future = [m[i].make_future_dataframe(periods=duration, freq='M') for i in range(len(list_df))]\n",
    "    \n",
    "# Check any one of the dataframes in the list\n",
    "future[i].tail()"
   ]
  },
  {
   "cell_type": "code",
   "execution_count": null,
   "id": "021463fb",
   "metadata": {},
   "outputs": [],
   "source": [
    "# Make predictions using the dataframe\n",
    "forecast = [m[i].predict(future[i]) for i in range(len(list_df))]\n",
    "\n",
    "forecast[i].tail()"
   ]
  },
  {
   "cell_type": "code",
   "execution_count": null,
   "id": "8243abba",
   "metadata": {},
   "outputs": [],
   "source": [
    "# Plot the Prophet predictions\n",
    "for i in range(len(list_df)):\n",
    "    print(f'{selected_boroughs[i]}-{selected_areas[i]}')\n",
    "    display(m[i].plot(forecast[i]))"
   ]
  },
  {
   "cell_type": "code",
   "execution_count": null,
   "id": "e37caf6a",
   "metadata": {},
   "outputs": [],
   "source": [
    "# Plot the components\n",
    "for i in range(len(list_df)):\n",
    "    print(f'{selected_boroughs[i]}-{selected_areas[i]}')\n",
    "    display(m[i].plot_components(forecast[i]))"
   ]
  },
  {
   "cell_type": "code",
   "execution_count": null,
   "id": "3b66c4cf",
   "metadata": {},
   "outputs": [],
   "source": [
    "# Set the index in the forecast DataFrame to the ds datetime column\n",
    "for i in range(len(list_df)):\n",
    "    forecast[i] = forecast[i].set_index('ds')\n",
    "# Check to see that the index has been set properly\n",
    "forecast[i].tail()"
   ]
  },
  {
   "cell_type": "code",
   "execution_count": null,
   "id": "c3353ae8",
   "metadata": {},
   "outputs": [],
   "source": [
    "# Plot predictions of our forecast for the 12 month period\n",
    "for i in range(len(list_df)):\n",
    "    forecast[i][['yhat', 'yhat_lower', 'yhat_upper']].iloc[(duration*-1):,:].plot(title=f'{selected_boroughs[i]}-{selected_areas[i]}')"
   ]
  },
  {
   "cell_type": "markdown",
   "id": "0fcd1efd",
   "metadata": {},
   "source": [
    "### Additional Analysis"
   ]
  },
  {
   "cell_type": "code",
   "execution_count": null,
   "id": "39b8fd1c",
   "metadata": {},
   "outputs": [],
   "source": [
    "# Check if there are any correlations in the rents for the areas selected\n",
    "df_nyc.set_index('index').corr()"
   ]
  },
  {
   "cell_type": "code",
   "execution_count": null,
   "id": "56ef6bbf",
   "metadata": {},
   "outputs": [],
   "source": [
    "# Calculate percentage change in rents for the areas choosen based on yhat\n",
    "# Create an empty list\n",
    "df_change = []\n",
    "# Create a for loop to calculate the percentages\n",
    "for i in range(len(list_df)):\n",
    "    # Splice the date to start from March 2024 till the end of the dataframe\n",
    "    df_temp = forecast[i].loc['2024-03':,'yhat']\n",
    "    # Calculate the percentage and add it to the list\n",
    "    df_change.append((df_temp.iloc[-1]-df_temp.iloc[0])/df_temp.iloc[0]*100)"
   ]
  },
  {
   "cell_type": "code",
   "execution_count": null,
   "id": "54bb998f",
   "metadata": {
    "scrolled": true
   },
   "outputs": [],
   "source": [
    "# Create a new dataframe with Borough, Area and % Change expected\n",
    "df_percentage = pd.DataFrame(\n",
    "    {'Borough': selected_boroughs,\n",
    "     'Area': selected_areas,\n",
    "     '% Change Expected': df_change\n",
    "    })\n",
    "df_percentage"
   ]
  },
  {
   "cell_type": "markdown",
   "id": "ca9c10eb",
   "metadata": {},
   "source": []
  }
 ],
 "metadata": {
  "kernelspec": {
   "display_name": "Python 3 (ipykernel)",
   "language": "python",
   "name": "python3"
  },
  "language_info": {
   "codemirror_mode": {
    "name": "ipython",
    "version": 3
   },
   "file_extension": ".py",
   "mimetype": "text/x-python",
   "name": "python",
   "nbconvert_exporter": "python",
   "pygments_lexer": "ipython3",
   "version": "3.11.5"
  }
 },
 "nbformat": 4,
 "nbformat_minor": 5
}
